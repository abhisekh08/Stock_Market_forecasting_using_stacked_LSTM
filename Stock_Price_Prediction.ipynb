{
  "nbformat": 4,
  "nbformat_minor": 0,
  "metadata": {
    "colab": {
      "name": "Stock_Price_Prediction.ipynb",
      "provenance": [],
      "collapsed_sections": []
    },
    "kernelspec": {
      "name": "python3",
      "display_name": "Python 3"
    },
    "accelerator": "GPU"
  },
  "cells": [
    {
      "cell_type": "markdown",
      "metadata": {
        "id": "EASK3euWNruk",
        "colab_type": "text"
      },
      "source": [
        "**Mounting the drive**"
      ]
    },
    {
      "cell_type": "code",
      "metadata": {
        "id": "Hs6Gi7WIX_0s",
        "colab_type": "code",
        "colab": {}
      },
      "source": [
        "# Mounting drive\n",
        "from google.colab import drive\n",
        "drive.mount(\"/content/drive\")"
      ],
      "execution_count": null,
      "outputs": []
    },
    {
      "cell_type": "markdown",
      "metadata": {
        "id": "VaqWjBOCUvhg",
        "colab_type": "text"
      },
      "source": [
        "**Data collection for stock price using tiingo api**\n",
        " - Disclaimer: API Hit is limited to 50 hits per day"
      ]
    },
    {
      "cell_type": "code",
      "metadata": {
        "id": "-367tkVsSVs8",
        "colab_type": "code",
        "colab": {
          "base_uri": "https://localhost:8080/",
          "height": 72
        },
        "outputId": "2f143938-2cde-422b-8093-537e8299d9f4"
      },
      "source": [
        "import pandas_datareader as pdr"
      ],
      "execution_count": null,
      "outputs": [
        {
          "output_type": "stream",
          "text": [
            "/usr/local/lib/python3.6/dist-packages/pandas_datareader/compat/__init__.py:7: FutureWarning: pandas.util.testing is deprecated. Use the functions in the public API at pandas.testing instead.\n",
            "  from pandas.util.testing import assert_frame_equal\n"
          ],
          "name": "stderr"
        }
      ]
    },
    {
      "cell_type": "code",
      "metadata": {
        "id": "y2A7siiDSerF",
        "colab_type": "code",
        "colab": {}
      },
      "source": [
        "# Data collected from TIINGO API\n",
        "key = \"Use your key!! am not sharing mine\"\n",
        "df = pdr.get_data_tiingo(\"AAPL\",api_key = key)\n",
        "df.to_csv(\"/content/drive/My Drive/stock_price_prediction_project/stocks_price.csv\")"
      ],
      "execution_count": null,
      "outputs": []
    },
    {
      "cell_type": "markdown",
      "metadata": {
        "id": "SHIcmFpyZOfR",
        "colab_type": "text"
      },
      "source": [
        "**Data Exploration**"
      ]
    },
    {
      "cell_type": "code",
      "metadata": {
        "id": "PAahm4sIW7FZ",
        "colab_type": "code",
        "colab": {}
      },
      "source": [
        "import pandas as pd\n",
        "import numpy as np\n"
      ],
      "execution_count": 2,
      "outputs": []
    },
    {
      "cell_type": "code",
      "metadata": {
        "id": "e34y77BJZtlY",
        "colab_type": "code",
        "colab": {}
      },
      "source": [
        "stocks = pd.read_csv(\"/content/drive/My Drive/stock_price_prediction_project/stocks_price.csv\")"
      ],
      "execution_count": 3,
      "outputs": []
    },
    {
      "cell_type": "code",
      "metadata": {
        "id": "8QBpFgIZZ0zP",
        "colab_type": "code",
        "colab": {
          "base_uri": "https://localhost:8080/",
          "height": 301
        },
        "outputId": "c1602af5-f504-445e-cc77-e8079a6de988"
      },
      "source": [
        "stocks.head(5)"
      ],
      "execution_count": 4,
      "outputs": [
        {
          "output_type": "execute_result",
          "data": {
            "text/html": [
              "<div>\n",
              "<style scoped>\n",
              "    .dataframe tbody tr th:only-of-type {\n",
              "        vertical-align: middle;\n",
              "    }\n",
              "\n",
              "    .dataframe tbody tr th {\n",
              "        vertical-align: top;\n",
              "    }\n",
              "\n",
              "    .dataframe thead th {\n",
              "        text-align: right;\n",
              "    }\n",
              "</style>\n",
              "<table border=\"1\" class=\"dataframe\">\n",
              "  <thead>\n",
              "    <tr style=\"text-align: right;\">\n",
              "      <th></th>\n",
              "      <th>symbol</th>\n",
              "      <th>date</th>\n",
              "      <th>close</th>\n",
              "      <th>high</th>\n",
              "      <th>low</th>\n",
              "      <th>open</th>\n",
              "      <th>volume</th>\n",
              "      <th>adjClose</th>\n",
              "      <th>adjHigh</th>\n",
              "      <th>adjLow</th>\n",
              "      <th>adjOpen</th>\n",
              "      <th>adjVolume</th>\n",
              "      <th>divCash</th>\n",
              "      <th>splitFactor</th>\n",
              "    </tr>\n",
              "  </thead>\n",
              "  <tbody>\n",
              "    <tr>\n",
              "      <th>0</th>\n",
              "      <td>AAPL</td>\n",
              "      <td>2015-09-10 00:00:00+00:00</td>\n",
              "      <td>112.57</td>\n",
              "      <td>113.2825</td>\n",
              "      <td>109.90</td>\n",
              "      <td>110.27</td>\n",
              "      <td>62892831</td>\n",
              "      <td>26.003131</td>\n",
              "      <td>26.167715</td>\n",
              "      <td>25.386374</td>\n",
              "      <td>25.471842</td>\n",
              "      <td>251571324</td>\n",
              "      <td>0.0</td>\n",
              "      <td>1.0</td>\n",
              "    </tr>\n",
              "    <tr>\n",
              "      <th>1</th>\n",
              "      <td>AAPL</td>\n",
              "      <td>2015-09-11 00:00:00+00:00</td>\n",
              "      <td>114.21</td>\n",
              "      <td>114.2100</td>\n",
              "      <td>111.76</td>\n",
              "      <td>111.79</td>\n",
              "      <td>49915473</td>\n",
              "      <td>26.381964</td>\n",
              "      <td>26.381964</td>\n",
              "      <td>25.816025</td>\n",
              "      <td>25.822955</td>\n",
              "      <td>199661892</td>\n",
              "      <td>0.0</td>\n",
              "      <td>1.0</td>\n",
              "    </tr>\n",
              "    <tr>\n",
              "      <th>2</th>\n",
              "      <td>AAPL</td>\n",
              "      <td>2015-09-14 00:00:00+00:00</td>\n",
              "      <td>115.31</td>\n",
              "      <td>116.8900</td>\n",
              "      <td>114.86</td>\n",
              "      <td>116.58</td>\n",
              "      <td>58363431</td>\n",
              "      <td>26.636058</td>\n",
              "      <td>27.001031</td>\n",
              "      <td>26.532110</td>\n",
              "      <td>26.929422</td>\n",
              "      <td>233453724</td>\n",
              "      <td>0.0</td>\n",
              "      <td>1.0</td>\n",
              "    </tr>\n",
              "    <tr>\n",
              "      <th>3</th>\n",
              "      <td>AAPL</td>\n",
              "      <td>2015-09-15 00:00:00+00:00</td>\n",
              "      <td>116.28</td>\n",
              "      <td>116.5300</td>\n",
              "      <td>114.42</td>\n",
              "      <td>115.93</td>\n",
              "      <td>43341155</td>\n",
              "      <td>26.860124</td>\n",
              "      <td>26.917872</td>\n",
              "      <td>26.430473</td>\n",
              "      <td>26.779275</td>\n",
              "      <td>173364620</td>\n",
              "      <td>0.0</td>\n",
              "      <td>1.0</td>\n",
              "    </tr>\n",
              "    <tr>\n",
              "      <th>4</th>\n",
              "      <td>AAPL</td>\n",
              "      <td>2015-09-16 00:00:00+00:00</td>\n",
              "      <td>116.41</td>\n",
              "      <td>116.5400</td>\n",
              "      <td>115.44</td>\n",
              "      <td>116.25</td>\n",
              "      <td>37173489</td>\n",
              "      <td>26.890153</td>\n",
              "      <td>26.920182</td>\n",
              "      <td>26.666088</td>\n",
              "      <td>26.853194</td>\n",
              "      <td>148693956</td>\n",
              "      <td>0.0</td>\n",
              "      <td>1.0</td>\n",
              "    </tr>\n",
              "  </tbody>\n",
              "</table>\n",
              "</div>"
            ],
            "text/plain": [
              "  symbol                       date   close  ...  adjVolume  divCash  splitFactor\n",
              "0   AAPL  2015-09-10 00:00:00+00:00  112.57  ...  251571324      0.0          1.0\n",
              "1   AAPL  2015-09-11 00:00:00+00:00  114.21  ...  199661892      0.0          1.0\n",
              "2   AAPL  2015-09-14 00:00:00+00:00  115.31  ...  233453724      0.0          1.0\n",
              "3   AAPL  2015-09-15 00:00:00+00:00  116.28  ...  173364620      0.0          1.0\n",
              "4   AAPL  2015-09-16 00:00:00+00:00  116.41  ...  148693956      0.0          1.0\n",
              "\n",
              "[5 rows x 14 columns]"
            ]
          },
          "metadata": {
            "tags": []
          },
          "execution_count": 4
        }
      ]
    },
    {
      "cell_type": "code",
      "metadata": {
        "id": "LC6B42WxZ57H",
        "colab_type": "code",
        "colab": {
          "base_uri": "https://localhost:8080/",
          "height": 301
        },
        "outputId": "3197fc9d-783e-47f3-ce3b-895740d42791"
      },
      "source": [
        "stocks.tail(5)"
      ],
      "execution_count": 5,
      "outputs": [
        {
          "output_type": "execute_result",
          "data": {
            "text/html": [
              "<div>\n",
              "<style scoped>\n",
              "    .dataframe tbody tr th:only-of-type {\n",
              "        vertical-align: middle;\n",
              "    }\n",
              "\n",
              "    .dataframe tbody tr th {\n",
              "        vertical-align: top;\n",
              "    }\n",
              "\n",
              "    .dataframe thead th {\n",
              "        text-align: right;\n",
              "    }\n",
              "</style>\n",
              "<table border=\"1\" class=\"dataframe\">\n",
              "  <thead>\n",
              "    <tr style=\"text-align: right;\">\n",
              "      <th></th>\n",
              "      <th>symbol</th>\n",
              "      <th>date</th>\n",
              "      <th>close</th>\n",
              "      <th>high</th>\n",
              "      <th>low</th>\n",
              "      <th>open</th>\n",
              "      <th>volume</th>\n",
              "      <th>adjClose</th>\n",
              "      <th>adjHigh</th>\n",
              "      <th>adjLow</th>\n",
              "      <th>adjOpen</th>\n",
              "      <th>adjVolume</th>\n",
              "      <th>divCash</th>\n",
              "      <th>splitFactor</th>\n",
              "    </tr>\n",
              "  </thead>\n",
              "  <tbody>\n",
              "    <tr>\n",
              "      <th>1252</th>\n",
              "      <td>AAPL</td>\n",
              "      <td>2020-08-31 00:00:00+00:00</td>\n",
              "      <td>129.04</td>\n",
              "      <td>131.00</td>\n",
              "      <td>126.00</td>\n",
              "      <td>127.58</td>\n",
              "      <td>223505733</td>\n",
              "      <td>129.04</td>\n",
              "      <td>131.00</td>\n",
              "      <td>126.00</td>\n",
              "      <td>127.58</td>\n",
              "      <td>223505733</td>\n",
              "      <td>0.0</td>\n",
              "      <td>4.0</td>\n",
              "    </tr>\n",
              "    <tr>\n",
              "      <th>1253</th>\n",
              "      <td>AAPL</td>\n",
              "      <td>2020-09-01 00:00:00+00:00</td>\n",
              "      <td>134.18</td>\n",
              "      <td>134.80</td>\n",
              "      <td>130.53</td>\n",
              "      <td>132.76</td>\n",
              "      <td>152470142</td>\n",
              "      <td>134.18</td>\n",
              "      <td>134.80</td>\n",
              "      <td>130.53</td>\n",
              "      <td>132.76</td>\n",
              "      <td>152470142</td>\n",
              "      <td>0.0</td>\n",
              "      <td>1.0</td>\n",
              "    </tr>\n",
              "    <tr>\n",
              "      <th>1254</th>\n",
              "      <td>AAPL</td>\n",
              "      <td>2020-09-02 00:00:00+00:00</td>\n",
              "      <td>131.40</td>\n",
              "      <td>137.98</td>\n",
              "      <td>127.00</td>\n",
              "      <td>137.59</td>\n",
              "      <td>200118991</td>\n",
              "      <td>131.40</td>\n",
              "      <td>137.98</td>\n",
              "      <td>127.00</td>\n",
              "      <td>137.59</td>\n",
              "      <td>200118991</td>\n",
              "      <td>0.0</td>\n",
              "      <td>1.0</td>\n",
              "    </tr>\n",
              "    <tr>\n",
              "      <th>1255</th>\n",
              "      <td>AAPL</td>\n",
              "      <td>2020-09-03 00:00:00+00:00</td>\n",
              "      <td>120.88</td>\n",
              "      <td>128.84</td>\n",
              "      <td>120.50</td>\n",
              "      <td>126.91</td>\n",
              "      <td>257599640</td>\n",
              "      <td>120.88</td>\n",
              "      <td>128.84</td>\n",
              "      <td>120.50</td>\n",
              "      <td>126.91</td>\n",
              "      <td>257599640</td>\n",
              "      <td>0.0</td>\n",
              "      <td>1.0</td>\n",
              "    </tr>\n",
              "    <tr>\n",
              "      <th>1256</th>\n",
              "      <td>AAPL</td>\n",
              "      <td>2020-09-04 00:00:00+00:00</td>\n",
              "      <td>120.96</td>\n",
              "      <td>123.70</td>\n",
              "      <td>110.89</td>\n",
              "      <td>120.07</td>\n",
              "      <td>332607163</td>\n",
              "      <td>120.96</td>\n",
              "      <td>123.70</td>\n",
              "      <td>110.89</td>\n",
              "      <td>120.07</td>\n",
              "      <td>332607163</td>\n",
              "      <td>0.0</td>\n",
              "      <td>1.0</td>\n",
              "    </tr>\n",
              "  </tbody>\n",
              "</table>\n",
              "</div>"
            ],
            "text/plain": [
              "     symbol                       date   close  ...  adjVolume  divCash  splitFactor\n",
              "1252   AAPL  2020-08-31 00:00:00+00:00  129.04  ...  223505733      0.0          4.0\n",
              "1253   AAPL  2020-09-01 00:00:00+00:00  134.18  ...  152470142      0.0          1.0\n",
              "1254   AAPL  2020-09-02 00:00:00+00:00  131.40  ...  200118991      0.0          1.0\n",
              "1255   AAPL  2020-09-03 00:00:00+00:00  120.88  ...  257599640      0.0          1.0\n",
              "1256   AAPL  2020-09-04 00:00:00+00:00  120.96  ...  332607163      0.0          1.0\n",
              "\n",
              "[5 rows x 14 columns]"
            ]
          },
          "metadata": {
            "tags": []
          },
          "execution_count": 5
        }
      ]
    },
    {
      "cell_type": "code",
      "metadata": {
        "id": "J6wew3JIaM-1",
        "colab_type": "code",
        "colab": {
          "base_uri": "https://localhost:8080/",
          "height": 307
        },
        "outputId": "6327663a-c286-4e37-dc30-7877999ab428"
      },
      "source": [
        "stocks.describe()"
      ],
      "execution_count": 6,
      "outputs": [
        {
          "output_type": "execute_result",
          "data": {
            "text/html": [
              "<div>\n",
              "<style scoped>\n",
              "    .dataframe tbody tr th:only-of-type {\n",
              "        vertical-align: middle;\n",
              "    }\n",
              "\n",
              "    .dataframe tbody tr th {\n",
              "        vertical-align: top;\n",
              "    }\n",
              "\n",
              "    .dataframe thead th {\n",
              "        text-align: right;\n",
              "    }\n",
              "</style>\n",
              "<table border=\"1\" class=\"dataframe\">\n",
              "  <thead>\n",
              "    <tr style=\"text-align: right;\">\n",
              "      <th></th>\n",
              "      <th>close</th>\n",
              "      <th>high</th>\n",
              "      <th>low</th>\n",
              "      <th>open</th>\n",
              "      <th>volume</th>\n",
              "      <th>adjClose</th>\n",
              "      <th>adjHigh</th>\n",
              "      <th>adjLow</th>\n",
              "      <th>adjOpen</th>\n",
              "      <th>adjVolume</th>\n",
              "      <th>divCash</th>\n",
              "      <th>splitFactor</th>\n",
              "    </tr>\n",
              "  </thead>\n",
              "  <tbody>\n",
              "    <tr>\n",
              "      <th>count</th>\n",
              "      <td>1257.000000</td>\n",
              "      <td>1257.000000</td>\n",
              "      <td>1257.000000</td>\n",
              "      <td>1257.000000</td>\n",
              "      <td>1.257000e+03</td>\n",
              "      <td>1257.000000</td>\n",
              "      <td>1257.000000</td>\n",
              "      <td>1257.000000</td>\n",
              "      <td>1257.000000</td>\n",
              "      <td>1.257000e+03</td>\n",
              "      <td>1257.000000</td>\n",
              "      <td>1257.000000</td>\n",
              "    </tr>\n",
              "    <tr>\n",
              "      <th>mean</th>\n",
              "      <td>182.380151</td>\n",
              "      <td>184.051040</td>\n",
              "      <td>180.452553</td>\n",
              "      <td>182.152037</td>\n",
              "      <td>3.482725e+07</td>\n",
              "      <td>44.768923</td>\n",
              "      <td>45.188718</td>\n",
              "      <td>44.285033</td>\n",
              "      <td>44.717789</td>\n",
              "      <td>1.365255e+08</td>\n",
              "      <td>0.010724</td>\n",
              "      <td>1.002387</td>\n",
              "    </tr>\n",
              "    <tr>\n",
              "      <th>std</th>\n",
              "      <td>75.973541</td>\n",
              "      <td>76.864201</td>\n",
              "      <td>74.762357</td>\n",
              "      <td>75.707010</td>\n",
              "      <td>2.047017e+07</td>\n",
              "      <td>20.129452</td>\n",
              "      <td>20.408682</td>\n",
              "      <td>19.770369</td>\n",
              "      <td>20.095441</td>\n",
              "      <td>6.329827e+07</td>\n",
              "      <td>0.085266</td>\n",
              "      <td>0.084616</td>\n",
              "    </tr>\n",
              "    <tr>\n",
              "      <th>min</th>\n",
              "      <td>90.340000</td>\n",
              "      <td>91.670000</td>\n",
              "      <td>89.470000</td>\n",
              "      <td>90.000000</td>\n",
              "      <td>1.136200e+07</td>\n",
              "      <td>21.199475</td>\n",
              "      <td>21.511577</td>\n",
              "      <td>20.995318</td>\n",
              "      <td>21.119690</td>\n",
              "      <td>4.544800e+07</td>\n",
              "      <td>0.000000</td>\n",
              "      <td>1.000000</td>\n",
              "    </tr>\n",
              "    <tr>\n",
              "      <th>25%</th>\n",
              "      <td>117.810000</td>\n",
              "      <td>118.600000</td>\n",
              "      <td>116.780000</td>\n",
              "      <td>117.640000</td>\n",
              "      <td>2.349733e+07</td>\n",
              "      <td>27.661299</td>\n",
              "      <td>27.806151</td>\n",
              "      <td>27.464464</td>\n",
              "      <td>27.655358</td>\n",
              "      <td>9.398930e+07</td>\n",
              "      <td>0.000000</td>\n",
              "      <td>1.000000</td>\n",
              "    </tr>\n",
              "    <tr>\n",
              "      <th>50%</th>\n",
              "      <td>170.420000</td>\n",
              "      <td>171.870000</td>\n",
              "      <td>169.220000</td>\n",
              "      <td>170.430000</td>\n",
              "      <td>2.986944e+07</td>\n",
              "      <td>41.390941</td>\n",
              "      <td>41.805660</td>\n",
              "      <td>41.039335</td>\n",
              "      <td>41.449006</td>\n",
              "      <td>1.194778e+08</td>\n",
              "      <td>0.000000</td>\n",
              "      <td>1.000000</td>\n",
              "    </tr>\n",
              "    <tr>\n",
              "      <th>75%</th>\n",
              "      <td>209.680000</td>\n",
              "      <td>212.050000</td>\n",
              "      <td>207.700000</td>\n",
              "      <td>209.880000</td>\n",
              "      <td>4.044491e+07</td>\n",
              "      <td>51.784866</td>\n",
              "      <td>52.515137</td>\n",
              "      <td>51.396392</td>\n",
              "      <td>51.844278</td>\n",
              "      <td>1.615317e+08</td>\n",
              "      <td>0.000000</td>\n",
              "      <td>1.000000</td>\n",
              "    </tr>\n",
              "    <tr>\n",
              "      <th>max</th>\n",
              "      <td>506.090000</td>\n",
              "      <td>515.140000</td>\n",
              "      <td>500.330000</td>\n",
              "      <td>514.790000</td>\n",
              "      <td>3.326072e+08</td>\n",
              "      <td>134.180000</td>\n",
              "      <td>137.980000</td>\n",
              "      <td>130.530000</td>\n",
              "      <td>137.590000</td>\n",
              "      <td>5.334787e+08</td>\n",
              "      <td>0.820000</td>\n",
              "      <td>4.000000</td>\n",
              "    </tr>\n",
              "  </tbody>\n",
              "</table>\n",
              "</div>"
            ],
            "text/plain": [
              "             close         high  ...      divCash  splitFactor\n",
              "count  1257.000000  1257.000000  ...  1257.000000  1257.000000\n",
              "mean    182.380151   184.051040  ...     0.010724     1.002387\n",
              "std      75.973541    76.864201  ...     0.085266     0.084616\n",
              "min      90.340000    91.670000  ...     0.000000     1.000000\n",
              "25%     117.810000   118.600000  ...     0.000000     1.000000\n",
              "50%     170.420000   171.870000  ...     0.000000     1.000000\n",
              "75%     209.680000   212.050000  ...     0.000000     1.000000\n",
              "max     506.090000   515.140000  ...     0.820000     4.000000\n",
              "\n",
              "[8 rows x 12 columns]"
            ]
          },
          "metadata": {
            "tags": []
          },
          "execution_count": 6
        }
      ]
    },
    {
      "cell_type": "code",
      "metadata": {
        "id": "1KhN5MyOaWeC",
        "colab_type": "code",
        "colab": {}
      },
      "source": [
        "stocks = stocks[\"close\"]"
      ],
      "execution_count": 7,
      "outputs": []
    },
    {
      "cell_type": "code",
      "metadata": {
        "id": "kaG3DQxKa8Zb",
        "colab_type": "code",
        "colab": {
          "base_uri": "https://localhost:8080/",
          "height": 404
        },
        "outputId": "de7c9ea2-a36f-40b0-8c64-abd027d0b193"
      },
      "source": [
        "# plot the graph of the price\n",
        "\n",
        "import matplotlib.pyplot as plt\n",
        "%matplotlib inline\n",
        "\n",
        "plt.figure(figsize=(10,6))\n",
        "plt.xlabel(f\"Date ({stocks.count()})\")\n",
        "plt.ylabel(\"Value\")\n",
        "plt.title(\"Stock Pattern\")\n",
        "plt.plot(stocks)\n",
        "plt.show()"
      ],
      "execution_count": 8,
      "outputs": [
        {
          "output_type": "display_data",
          "data": {
            "image/png": "[encoded data removed]",
            "text/plain": [
              "<Figure size 720x432 with 1 Axes>"
            ]
          },
          "metadata": {
            "tags": [],
            "needs_background": "light"
          }
        }
      ]
    },
    {
      "cell_type": "code",
      "metadata": {
        "id": "07RzXUfnb5aI",
        "colab_type": "code",
        "colab": {}
      },
      "source": [
        "# Scaling of the data\n",
        "from sklearn.preprocessing import MinMaxScaler\n",
        "stk = np.array(stocks).reshape(-1,1)\n",
        "\n",
        "scaler = MinMaxScaler(feature_range=(0,1))\n",
        "stk = scaler.fit_transform(stk)\n"
      ],
      "execution_count": 9,
      "outputs": []
    },
    {
      "cell_type": "code",
      "metadata": {
        "id": "nwvHu2X1F1nO",
        "colab_type": "code",
        "colab": {
          "base_uri": "https://localhost:8080/",
          "height": 141
        },
        "outputId": "bf56cc72-2de8-429e-9ce0-b17d38ec4f85"
      },
      "source": [
        "stk"
      ],
      "execution_count": 10,
      "outputs": [
        {
          "output_type": "execute_result",
          "data": {
            "text/plain": [
              "array([[0.05346963],\n",
              "       [0.05741431],\n",
              "       [0.06006013],\n",
              "       ...,\n",
              "       [0.09876127],\n",
              "       [0.07345761],\n",
              "       [0.07365003]])"
            ]
          },
          "metadata": {
            "tags": []
          },
          "execution_count": 10
        }
      ]
    },
    {
      "cell_type": "code",
      "metadata": {
        "id": "jcGUc1Ahg0CM",
        "colab_type": "code",
        "colab": {}
      },
      "source": [
        "# splitting of data for train and test in ratio 60:40\n",
        "train_size = int(0.6 * len(stk))\n",
        "test_size = len(stk) - train_size\n",
        "\n",
        "train_data = stk[0:train_size,:]\n",
        "test_data = stk[train_size:len(stk),:1]"
      ],
      "execution_count": 11,
      "outputs": []
    },
    {
      "cell_type": "code",
      "metadata": {
        "id": "IiEnIz3TLgdM",
        "colab_type": "code",
        "colab": {
          "base_uri": "https://localhost:8080/",
          "height": 34
        },
        "outputId": "d62fd13b-7a2c-4b4d-b076-ed98acd06229"
      },
      "source": [
        "train_data.shape,test_data.shape"
      ],
      "execution_count": 12,
      "outputs": [
        {
          "output_type": "execute_result",
          "data": {
            "text/plain": [
              "((754, 1), (503, 1))"
            ]
          },
          "metadata": {
            "tags": []
          },
          "execution_count": 12
        }
      ]
    },
    {
      "cell_type": "code",
      "metadata": {
        "id": "rCM-CrQOhiDp",
        "colab_type": "code",
        "colab": {}
      },
      "source": [
        "# Creating dataset from the above scaled values\n",
        "\n",
        "def create_dataset(dataset,timestep = 1):\n",
        "  Xside,Yside = [],[]\n",
        "  for i in range(len(dataset) - timestep - 1):\n",
        "    x = dataset[i : i + timestep, 0]\n",
        "    y = dataset[i + timestep, 0]\n",
        "    Xside.append(x)\n",
        "    Yside.append(y)\n",
        "  return np.array(Xside),np.array(Yside)"
      ],
      "execution_count": 13,
      "outputs": []
    },
    {
      "cell_type": "code",
      "metadata": {
        "id": "uYXq2oTSh8VK",
        "colab_type": "code",
        "colab": {}
      },
      "source": [
        "# creating training and test data\n",
        "time_step = 100\n",
        "X_train, y_train = create_dataset(train_data, time_step)\n",
        "X_test, y_test = create_dataset(test_data, time_step)"
      ],
      "execution_count": 14,
      "outputs": []
    },
    {
      "cell_type": "code",
      "metadata": {
        "id": "fFFk2L6RGEM_",
        "colab_type": "code",
        "colab": {
          "base_uri": "https://localhost:8080/",
          "height": 34
        },
        "outputId": "d6dfe1ef-1dc9-45b7-91f5-6943fee9a4ea"
      },
      "source": [
        "X_train.shape, y_train.shape"
      ],
      "execution_count": 15,
      "outputs": [
        {
          "output_type": "execute_result",
          "data": {
            "text/plain": [
              "((653, 100), (653,))"
            ]
          },
          "metadata": {
            "tags": []
          },
          "execution_count": 15
        }
      ]
    },
    {
      "cell_type": "code",
      "metadata": {
        "id": "0WD1uD1qK-MZ",
        "colab_type": "code",
        "colab": {
          "base_uri": "https://localhost:8080/",
          "height": 34
        },
        "outputId": "8ada1d92-2108-4489-e049-cd664e9addeb"
      },
      "source": [
        "X_test.shape, y_test.shape"
      ],
      "execution_count": 16,
      "outputs": [
        {
          "output_type": "execute_result",
          "data": {
            "text/plain": [
              "((402, 100), (402,))"
            ]
          },
          "metadata": {
            "tags": []
          },
          "execution_count": 16
        }
      ]
    },
    {
      "cell_type": "code",
      "metadata": {
        "id": "frMuCoDaLa1V",
        "colab_type": "code",
        "colab": {
          "base_uri": "https://localhost:8080/",
          "height": 34
        },
        "outputId": "b2ff25eb-120a-4c6f-c081-a37d80a59bff"
      },
      "source": [
        "# reshaping for input in LSTM model\n",
        "X_train = X_train.reshape(X_train.shape[0],X_train.shape[1],1)\n",
        "X_test = X_test.reshape(X_test.shape[0],X_test.shape[1],1)\n",
        "X_train.shape, X_test.shape, y_train.shape, y_test.shape"
      ],
      "execution_count": 17,
      "outputs": [
        {
          "output_type": "execute_result",
          "data": {
            "text/plain": [
              "((653, 100, 1), (402, 100, 1), (653,), (402,))"
            ]
          },
          "metadata": {
            "tags": []
          },
          "execution_count": 17
        }
      ]
    },
    {
      "cell_type": "markdown",
      "metadata": {
        "id": "ss0IbQG6Mapp",
        "colab_type": "text"
      },
      "source": [
        "**Defining the LSTM model**"
      ]
    },
    {
      "cell_type": "code",
      "metadata": {
        "id": "awVFXxMiMFwM",
        "colab_type": "code",
        "colab": {
          "base_uri": "https://localhost:8080/",
          "height": 301
        },
        "outputId": "4a740a1f-651e-4090-b827-ac6cd7805f0a"
      },
      "source": [
        "import keras\n",
        "from keras.models import Sequential\n",
        "from keras.layers import Dense, LSTM\n",
        "from keras.optimizers import Adam\n",
        "\n",
        "model=Sequential()\n",
        "model.add(LSTM(50,return_sequences=True,input_shape=(100,1)))\n",
        "model.add(LSTM(50,return_sequences=True))\n",
        "model.add(LSTM(50))\n",
        "model.add(Dense(1))\n",
        "\n",
        "model.summary()"
      ],
      "execution_count": 18,
      "outputs": [
        {
          "output_type": "stream",
          "text": [
            "Model: \"sequential\"\n",
            "_________________________________________________________________\n",
            "Layer (type)                 Output Shape              Param #   \n",
            "=================================================================\n",
            "lstm (LSTM)                  (None, 100, 50)           10400     \n",
            "_________________________________________________________________\n",
            "lstm_1 (LSTM)                (None, 100, 50)           20200     \n",
            "_________________________________________________________________\n",
            "lstm_2 (LSTM)                (None, 50)                20200     \n",
            "_________________________________________________________________\n",
            "dense (Dense)                (None, 1)                 51        \n",
            "=================================================================\n",
            "Total params: 50,851\n",
            "Trainable params: 50,851\n",
            "Non-trainable params: 0\n",
            "_________________________________________________________________\n"
          ],
          "name": "stdout"
        }
      ]
    },
    {
      "cell_type": "code",
      "metadata": {
        "id": "iFgd9TvKMfTQ",
        "colab_type": "code",
        "colab": {}
      },
      "source": [
        "model.compile(loss='mean_squared_error',optimizer='adam')"
      ],
      "execution_count": 19,
      "outputs": []
    },
    {
      "cell_type": "markdown",
      "metadata": {
        "id": "kWAglX0PNIaD",
        "colab_type": "text"
      },
      "source": [
        "**training and validating the model with the data recorded**"
      ]
    },
    {
      "cell_type": "code",
      "metadata": {
        "id": "PjhAyESpNCOV",
        "colab_type": "code",
        "colab": {
          "base_uri": "https://localhost:8080/",
          "height": 1000
        },
        "outputId": "c033225e-38dd-4fe2-9569-ac8c11ce7508"
      },
      "source": [
        "model.fit(X_train,y_train, validation_data=(X_test,y_test),epochs=100,batch_size=64,verbose=1)"
      ],
      "execution_count": 20,
      "outputs": [
        {
          "output_type": "stream",
          "text": [
            "Epoch 1/100\n",
            "11/11 [==============================] - 1s 103ms/step - loss: 0.0079 - val_loss: 0.0456\n",
            "Epoch 2/100\n",
            "11/11 [==============================] - 0s 22ms/step - loss: 0.0021 - val_loss: 0.0083\n",
            "Epoch 3/100\n",
            "11/11 [==============================] - 0s 18ms/step - loss: 5.0409e-04 - val_loss: 0.0104\n",
            "Epoch 4/100\n",
            "11/11 [==============================] - 0s 19ms/step - loss: 2.9169e-04 - val_loss: 0.0083\n",
            "Epoch 5/100\n",
            "11/11 [==============================] - 0s 18ms/step - loss: 2.3925e-04 - val_loss: 0.0082\n",
            "Epoch 6/100\n",
            "11/11 [==============================] - 0s 18ms/step - loss: 2.1615e-04 - val_loss: 0.0082\n",
            "Epoch 7/100\n",
            "11/11 [==============================] - 0s 18ms/step - loss: 2.0374e-04 - val_loss: 0.0081\n",
            "Epoch 8/100\n",
            "11/11 [==============================] - 0s 18ms/step - loss: 2.0229e-04 - val_loss: 0.0085\n",
            "Epoch 9/100\n",
            "11/11 [==============================] - 0s 18ms/step - loss: 1.9789e-04 - val_loss: 0.0082\n",
            "Epoch 10/100\n",
            "11/11 [==============================] - 0s 18ms/step - loss: 2.1052e-04 - val_loss: 0.0082\n",
            "Epoch 11/100\n",
            "11/11 [==============================] - 0s 19ms/step - loss: 2.0773e-04 - val_loss: 0.0083\n",
            "Epoch 12/100\n",
            "11/11 [==============================] - 0s 18ms/step - loss: 2.1613e-04 - val_loss: 0.0082\n",
            "Epoch 13/100\n",
            "11/11 [==============================] - 0s 18ms/step - loss: 1.9378e-04 - val_loss: 0.0084\n",
            "Epoch 14/100\n",
            "11/11 [==============================] - 0s 17ms/step - loss: 1.9190e-04 - val_loss: 0.0086\n",
            "Epoch 15/100\n",
            "11/11 [==============================] - 0s 18ms/step - loss: 1.8504e-04 - val_loss: 0.0086\n",
            "Epoch 16/100\n",
            "11/11 [==============================] - 0s 19ms/step - loss: 1.8764e-04 - val_loss: 0.0084\n",
            "Epoch 17/100\n",
            "11/11 [==============================] - 0s 18ms/step - loss: 1.8971e-04 - val_loss: 0.0085\n",
            "Epoch 18/100\n",
            "11/11 [==============================] - 0s 18ms/step - loss: 1.8285e-04 - val_loss: 0.0087\n",
            "Epoch 19/100\n",
            "11/11 [==============================] - 0s 18ms/step - loss: 1.8394e-04 - val_loss: 0.0089\n",
            "Epoch 20/100\n",
            "11/11 [==============================] - 0s 18ms/step - loss: 1.8858e-04 - val_loss: 0.0090\n",
            "Epoch 21/100\n",
            "11/11 [==============================] - 0s 19ms/step - loss: 1.7951e-04 - val_loss: 0.0088\n",
            "Epoch 22/100\n",
            "11/11 [==============================] - 0s 18ms/step - loss: 1.7987e-04 - val_loss: 0.0088\n",
            "Epoch 23/100\n",
            "11/11 [==============================] - 0s 18ms/step - loss: 1.7475e-04 - val_loss: 0.0092\n",
            "Epoch 24/100\n",
            "11/11 [==============================] - 0s 18ms/step - loss: 1.7608e-04 - val_loss: 0.0102\n",
            "Epoch 25/100\n",
            "11/11 [==============================] - 0s 18ms/step - loss: 1.8917e-04 - val_loss: 0.0090\n",
            "Epoch 26/100\n",
            "11/11 [==============================] - 0s 18ms/step - loss: 1.7690e-04 - val_loss: 0.0089\n",
            "Epoch 27/100\n",
            "11/11 [==============================] - 0s 18ms/step - loss: 1.7431e-04 - val_loss: 0.0104\n",
            "Epoch 28/100\n",
            "11/11 [==============================] - 0s 18ms/step - loss: 1.9051e-04 - val_loss: 0.0102\n",
            "Epoch 29/100\n",
            "11/11 [==============================] - 0s 17ms/step - loss: 1.5685e-04 - val_loss: 0.0091\n",
            "Epoch 30/100\n",
            "11/11 [==============================] - 0s 20ms/step - loss: 1.6188e-04 - val_loss: 0.0095\n",
            "Epoch 31/100\n",
            "11/11 [==============================] - 0s 21ms/step - loss: 1.5376e-04 - val_loss: 0.0098\n",
            "Epoch 32/100\n",
            "11/11 [==============================] - 0s 18ms/step - loss: 1.6564e-04 - val_loss: 0.0089\n",
            "Epoch 33/100\n",
            "11/11 [==============================] - 0s 17ms/step - loss: 1.6577e-04 - val_loss: 0.0092\n",
            "Epoch 34/100\n",
            "11/11 [==============================] - 0s 18ms/step - loss: 1.7158e-04 - val_loss: 0.0112\n",
            "Epoch 35/100\n",
            "11/11 [==============================] - 0s 19ms/step - loss: 1.8610e-04 - val_loss: 0.0083\n",
            "Epoch 36/100\n",
            "11/11 [==============================] - 0s 18ms/step - loss: 1.6565e-04 - val_loss: 0.0086\n",
            "Epoch 37/100\n",
            "11/11 [==============================] - 0s 18ms/step - loss: 1.5643e-04 - val_loss: 0.0090\n",
            "Epoch 38/100\n",
            "11/11 [==============================] - 0s 18ms/step - loss: 1.4442e-04 - val_loss: 0.0088\n",
            "Epoch 39/100\n",
            "11/11 [==============================] - 0s 19ms/step - loss: 1.4575e-04 - val_loss: 0.0087\n",
            "Epoch 40/100\n",
            "11/11 [==============================] - 0s 18ms/step - loss: 1.4203e-04 - val_loss: 0.0087\n",
            "Epoch 41/100\n",
            "11/11 [==============================] - 0s 18ms/step - loss: 1.4189e-04 - val_loss: 0.0085\n",
            "Epoch 42/100\n",
            "11/11 [==============================] - 0s 19ms/step - loss: 1.3698e-04 - val_loss: 0.0089\n",
            "Epoch 43/100\n",
            "11/11 [==============================] - 0s 18ms/step - loss: 1.4082e-04 - val_loss: 0.0092\n",
            "Epoch 44/100\n",
            "11/11 [==============================] - 0s 19ms/step - loss: 1.4189e-04 - val_loss: 0.0088\n",
            "Epoch 45/100\n",
            "11/11 [==============================] - 0s 18ms/step - loss: 1.3273e-04 - val_loss: 0.0083\n",
            "Epoch 46/100\n",
            "11/11 [==============================] - 0s 18ms/step - loss: 1.5974e-04 - val_loss: 0.0090\n",
            "Epoch 47/100\n",
            "11/11 [==============================] - 0s 18ms/step - loss: 1.3097e-04 - val_loss: 0.0086\n",
            "Epoch 48/100\n",
            "11/11 [==============================] - 0s 18ms/step - loss: 1.2737e-04 - val_loss: 0.0085\n",
            "Epoch 49/100\n",
            "11/11 [==============================] - 0s 19ms/step - loss: 1.2546e-04 - val_loss: 0.0079\n",
            "Epoch 50/100\n",
            "11/11 [==============================] - 0s 18ms/step - loss: 1.3711e-04 - val_loss: 0.0094\n",
            "Epoch 51/100\n",
            "11/11 [==============================] - 0s 18ms/step - loss: 1.3063e-04 - val_loss: 0.0079\n",
            "Epoch 52/100\n",
            "11/11 [==============================] - 0s 18ms/step - loss: 1.2206e-04 - val_loss: 0.0081\n",
            "Epoch 53/100\n",
            "11/11 [==============================] - 0s 19ms/step - loss: 1.2554e-04 - val_loss: 0.0079\n",
            "Epoch 54/100\n",
            "11/11 [==============================] - 0s 18ms/step - loss: 1.4854e-04 - val_loss: 0.0079\n",
            "Epoch 55/100\n",
            "11/11 [==============================] - 0s 18ms/step - loss: 1.5110e-04 - val_loss: 0.0078\n",
            "Epoch 56/100\n",
            "11/11 [==============================] - 0s 18ms/step - loss: 1.1814e-04 - val_loss: 0.0073\n",
            "Epoch 57/100\n",
            "11/11 [==============================] - 0s 18ms/step - loss: 1.5038e-04 - val_loss: 0.0080\n",
            "Epoch 58/100\n",
            "11/11 [==============================] - 0s 19ms/step - loss: 1.2612e-04 - val_loss: 0.0073\n",
            "Epoch 59/100\n",
            "11/11 [==============================] - 0s 18ms/step - loss: 1.2411e-04 - val_loss: 0.0079\n",
            "Epoch 60/100\n",
            "11/11 [==============================] - 0s 18ms/step - loss: 1.1224e-04 - val_loss: 0.0075\n",
            "Epoch 61/100\n",
            "11/11 [==============================] - 0s 18ms/step - loss: 1.1081e-04 - val_loss: 0.0071\n",
            "Epoch 62/100\n",
            "11/11 [==============================] - 0s 18ms/step - loss: 1.1887e-04 - val_loss: 0.0086\n",
            "Epoch 63/100\n",
            "11/11 [==============================] - 0s 19ms/step - loss: 1.4326e-04 - val_loss: 0.0069\n",
            "Epoch 64/100\n",
            "11/11 [==============================] - 0s 18ms/step - loss: 1.0815e-04 - val_loss: 0.0078\n",
            "Epoch 65/100\n",
            "11/11 [==============================] - 0s 17ms/step - loss: 1.1344e-04 - val_loss: 0.0069\n",
            "Epoch 66/100\n",
            "11/11 [==============================] - 0s 18ms/step - loss: 1.1639e-04 - val_loss: 0.0068\n",
            "Epoch 67/100\n",
            "11/11 [==============================] - 0s 18ms/step - loss: 1.0469e-04 - val_loss: 0.0069\n",
            "Epoch 68/100\n",
            "11/11 [==============================] - 0s 18ms/step - loss: 1.0356e-04 - val_loss: 0.0067\n",
            "Epoch 69/100\n",
            "11/11 [==============================] - 0s 18ms/step - loss: 1.2221e-04 - val_loss: 0.0074\n",
            "Epoch 70/100\n",
            "11/11 [==============================] - 0s 18ms/step - loss: 1.1256e-04 - val_loss: 0.0065\n",
            "Epoch 71/100\n",
            "11/11 [==============================] - 0s 18ms/step - loss: 1.0622e-04 - val_loss: 0.0070\n",
            "Epoch 72/100\n",
            "11/11 [==============================] - 0s 19ms/step - loss: 1.0054e-04 - val_loss: 0.0075\n",
            "Epoch 73/100\n",
            "11/11 [==============================] - 0s 18ms/step - loss: 1.1447e-04 - val_loss: 0.0064\n",
            "Epoch 74/100\n",
            "11/11 [==============================] - 0s 18ms/step - loss: 1.0730e-04 - val_loss: 0.0071\n",
            "Epoch 75/100\n",
            "11/11 [==============================] - 0s 18ms/step - loss: 1.0019e-04 - val_loss: 0.0066\n",
            "Epoch 76/100\n",
            "11/11 [==============================] - 0s 18ms/step - loss: 1.1164e-04 - val_loss: 0.0073\n",
            "Epoch 77/100\n",
            "11/11 [==============================] - 0s 20ms/step - loss: 1.1796e-04 - val_loss: 0.0064\n",
            "Epoch 78/100\n",
            "11/11 [==============================] - 0s 19ms/step - loss: 1.1600e-04 - val_loss: 0.0068\n",
            "Epoch 79/100\n",
            "11/11 [==============================] - 0s 19ms/step - loss: 9.6987e-05 - val_loss: 0.0063\n",
            "Epoch 80/100\n",
            "11/11 [==============================] - 0s 18ms/step - loss: 1.0603e-04 - val_loss: 0.0067\n",
            "Epoch 81/100\n",
            "11/11 [==============================] - 0s 18ms/step - loss: 9.8889e-05 - val_loss: 0.0064\n",
            "Epoch 82/100\n",
            "11/11 [==============================] - 0s 18ms/step - loss: 9.5660e-05 - val_loss: 0.0066\n",
            "Epoch 83/100\n",
            "11/11 [==============================] - 0s 18ms/step - loss: 9.2572e-05 - val_loss: 0.0062\n",
            "Epoch 84/100\n",
            "11/11 [==============================] - 0s 18ms/step - loss: 9.5565e-05 - val_loss: 0.0070\n",
            "Epoch 85/100\n",
            "11/11 [==============================] - 0s 18ms/step - loss: 8.7714e-05 - val_loss: 0.0061\n",
            "Epoch 86/100\n",
            "11/11 [==============================] - 0s 19ms/step - loss: 9.7858e-05 - val_loss: 0.0066\n",
            "Epoch 87/100\n",
            "11/11 [==============================] - 0s 19ms/step - loss: 8.6616e-05 - val_loss: 0.0066\n",
            "Epoch 88/100\n",
            "11/11 [==============================] - 0s 18ms/step - loss: 8.7962e-05 - val_loss: 0.0064\n",
            "Epoch 89/100\n",
            "11/11 [==============================] - 0s 18ms/step - loss: 8.8535e-05 - val_loss: 0.0065\n",
            "Epoch 90/100\n",
            "11/11 [==============================] - 0s 18ms/step - loss: 8.5667e-05 - val_loss: 0.0061\n",
            "Epoch 91/100\n",
            "11/11 [==============================] - 0s 19ms/step - loss: 8.2652e-05 - val_loss: 0.0062\n",
            "Epoch 92/100\n",
            "11/11 [==============================] - 0s 18ms/step - loss: 8.9816e-05 - val_loss: 0.0062\n",
            "Epoch 93/100\n",
            "11/11 [==============================] - 0s 18ms/step - loss: 8.6467e-05 - val_loss: 0.0064\n",
            "Epoch 94/100\n",
            "11/11 [==============================] - 0s 19ms/step - loss: 8.2640e-05 - val_loss: 0.0059\n",
            "Epoch 95/100\n",
            "11/11 [==============================] - 0s 18ms/step - loss: 8.7313e-05 - val_loss: 0.0065\n",
            "Epoch 96/100\n",
            "11/11 [==============================] - 0s 18ms/step - loss: 8.0255e-05 - val_loss: 0.0059\n",
            "Epoch 97/100\n",
            "11/11 [==============================] - 0s 18ms/step - loss: 8.0079e-05 - val_loss: 0.0060\n",
            "Epoch 98/100\n",
            "11/11 [==============================] - 0s 18ms/step - loss: 8.3574e-05 - val_loss: 0.0057\n",
            "Epoch 99/100\n",
            "11/11 [==============================] - 0s 18ms/step - loss: 7.9262e-05 - val_loss: 0.0063\n",
            "Epoch 100/100\n",
            "11/11 [==============================] - 0s 20ms/step - loss: 7.4553e-05 - val_loss: 0.0054\n"
          ],
          "name": "stdout"
        },
        {
          "output_type": "execute_result",
          "data": {
            "text/plain": [
              "<tensorflow.python.keras.callbacks.History at 0x7feb94407a90>"
            ]
          },
          "metadata": {
            "tags": []
          },
          "execution_count": 20
        }
      ]
    },
    {
      "cell_type": "markdown",
      "metadata": {
        "id": "4B9Kgmd_PVcg",
        "colab_type": "text"
      },
      "source": [
        "**Checking the RSME value for the model**"
      ]
    },
    {
      "cell_type": "code",
      "metadata": {
        "id": "Np3GlnEjNOM1",
        "colab_type": "code",
        "colab": {}
      },
      "source": [
        "XtrainPredicted = scaler.inverse_transform(model.predict(X_train))\n",
        "XtestPredicted = scaler.inverse_transform(model.predict(X_test))"
      ],
      "execution_count": 21,
      "outputs": []
    },
    {
      "cell_type": "code",
      "metadata": {
        "id": "SmYqBv_0PxHi",
        "colab_type": "code",
        "colab": {
          "base_uri": "https://localhost:8080/",
          "height": 34
        },
        "outputId": "4a32802d-64f6-4ad8-e994-ee0a649ee09d"
      },
      "source": [
        "XtrainPredicted.shape, XtestPredicted.shape"
      ],
      "execution_count": 22,
      "outputs": [
        {
          "output_type": "execute_result",
          "data": {
            "text/plain": [
              "((653, 1), (402, 1))"
            ]
          },
          "metadata": {
            "tags": []
          },
          "execution_count": 22
        }
      ]
    },
    {
      "cell_type": "code",
      "metadata": {
        "id": "6EfdlWt4PzF-",
        "colab_type": "code",
        "colab": {
          "base_uri": "https://localhost:8080/",
          "height": 52
        },
        "outputId": "bc316bb1-b3fe-4ba8-b466-29eff159c857"
      },
      "source": [
        "import math\n",
        "from sklearn.metrics import mean_squared_error\n",
        "trainrsme =  math.sqrt(mean_squared_error(XtrainPredicted,scaler.inverse_transform(y_train.reshape(-1, 1))))\n",
        "testrsme = math.sqrt(mean_squared_error(XtestPredicted,scaler.inverse_transform(y_test.reshape(-1, 1))))\n",
        "print(f\"RSME for Train value is {trainrsme}\")\n",
        "print(f\"RSME for Test value is {testrsme}\")"
      ],
      "execution_count": 23,
      "outputs": [
        {
          "output_type": "stream",
          "text": [
            "RSME for Train value is 3.6882275137309395\n",
            "RSME for Test value is 30.684848571612587\n"
          ],
          "name": "stdout"
        }
      ]
    },
    {
      "cell_type": "markdown",
      "metadata": {
        "id": "BCzIHdO_Xzbx",
        "colab_type": "text"
      },
      "source": [
        "**plotting the predicted values**"
      ]
    },
    {
      "cell_type": "code",
      "metadata": {
        "id": "NCLkgpgaQdLb",
        "colab_type": "code",
        "colab": {
          "base_uri": "https://localhost:8080/",
          "height": 457
        },
        "outputId": "d0cd51f0-2461-4174-8ac6-2e6e21f8c613"
      },
      "source": [
        "# ploting original stocks\n",
        "fig = plt.figure(figsize=(15,7))\n",
        "plt.plot(stocks,\"b\")\n",
        "\n",
        "# ploting the training predictions\n",
        "traindf = np.empty_like(stk)\n",
        "traindf[:,:] = np.nan\n",
        "traindf[time_step : time_step + len(XtrainPredicted)] = XtrainPredicted\n",
        "plt.plot(traindf, \"r\")\n",
        "\n",
        "# ploting hte test predictions\n",
        "testdf = np.empty_like(stk)\n",
        "testdf[:,:] = np.nan\n",
        "testdf[2*time_step + len(XtrainPredicted) : 2*time_step + len(XtrainPredicted) + len(XtestPredicted) ] = XtestPredicted\n",
        "plt.plot(testdf,\"y\")\n",
        "\n",
        "plt.xlabel(\"time in days\")\n",
        "plt.ylabel(\"close price\")\n",
        "plt.title(\"plot of original Vs train_test_prediction values\")\n",
        "plt.legend([\"original\",\"train\",\"test\"])\n",
        "plt.show()\n",
        "\n",
        "fig.savefig(\"/content/drive/My Drive/stock_price_prediction_project/stock_predictions.jpg\",dpi = 300)"
      ],
      "execution_count": 55,
      "outputs": [
        {
          "output_type": "display_data",
          "data": {
            "image/png": "[encoded data removed]",
            "text/plain": [
              "<Figure size 1080x504 with 1 Axes>"
            ]
          },
          "metadata": {
            "tags": [],
            "needs_background": "light"
          }
        }
      ]
    },
    {
      "cell_type": "markdown",
      "metadata": {
        "id": "Lm6m0K9NaBw0",
        "colab_type": "text"
      },
      "source": [
        "**Prediction of next 20 days stock values**"
      ]
    },
    {
      "cell_type": "code",
      "metadata": {
        "id": "plQXYQh-R4W-",
        "colab_type": "code",
        "colab": {
          "base_uri": "https://localhost:8080/",
          "height": 34
        },
        "outputId": "80b54cea-744c-4978-d86c-2dc2da989eb5"
      },
      "source": [
        "# getting last 100 values from scaled stock close prices\n",
        "last_100_prices = stk[-100:]\n",
        "last_100_prices.shape"
      ],
      "execution_count": 275,
      "outputs": [
        {
          "output_type": "execute_result",
          "data": {
            "text/plain": [
              "(100, 1)"
            ]
          },
          "metadata": {
            "tags": []
          },
          "execution_count": 275
        }
      ]
    },
    {
      "cell_type": "code",
      "metadata": {
        "id": "xfAqIwkxaqEc",
        "colab_type": "code",
        "colab": {}
      },
      "source": [
        "next_10_days = []\n",
        "\n",
        "while len(next_10_days) < 10: \n",
        "  # updating the shape for model input compatibility\n",
        "  last_100_prices = np.expand_dims(last_100_prices,axis = 0)\n",
        "\n",
        "  # Prediction of next day closing value\n",
        "  next_day = model.predict(last_100_prices)\n",
        "  next_10_days.append(next_day[0])\n",
        "\n",
        "  # Updation of the last 100 closing values feature array\n",
        "  templist = last_100_prices.tolist()[0]\n",
        "  templist.append(next_day[0])\n",
        "  templist = templist[1:]\n",
        "  templist = np.array(templist)\n",
        "  last_100_prices = templist"
      ],
      "execution_count": 276,
      "outputs": []
    },
    {
      "cell_type": "code",
      "metadata": {
        "id": "i5r8rr6XarpB",
        "colab_type": "code",
        "colab": {}
      },
      "source": [
        "next_10_days = np.array(next_10_days)\n",
        "next_10_days = scaler.inverse_transform(next_10_days)"
      ],
      "execution_count": 281,
      "outputs": []
    },
    {
      "cell_type": "markdown",
      "metadata": {
        "id": "tCfItPCE0By4",
        "colab_type": "text"
      },
      "source": [
        "**Plotting the next 10 days predictions along with training data**"
      ]
    },
    {
      "cell_type": "code",
      "metadata": {
        "id": "0iXKHKC51h7V",
        "colab_type": "code",
        "colab": {
          "base_uri": "https://localhost:8080/",
          "height": 34
        },
        "outputId": "f692edf9-2e96-4618-952a-16b07e68d159"
      },
      "source": [
        "len(next_10_days)"
      ],
      "execution_count": 288,
      "outputs": [
        {
          "output_type": "execute_result",
          "data": {
            "text/plain": [
              "10"
            ]
          },
          "metadata": {
            "tags": []
          },
          "execution_count": 288
        }
      ]
    },
    {
      "cell_type": "code",
      "metadata": {
        "id": "tZLQp34Az4pA",
        "colab_type": "code",
        "colab": {
          "base_uri": "https://localhost:8080/",
          "height": 457
        },
        "outputId": "01a9407e-6d0a-4765-8c5b-2db488719e58"
      },
      "source": [
        "\n",
        "fig = plt.figure(figsize=(15,7))\n",
        "\n",
        "last_days = np.arange(0,111)\n",
        "\n",
        "# plotting of last 100 days of actual closing prices\n",
        "plt.plot(last_days[0:100],scaler.inverse_transform(stk[-100:]))\n",
        "\n",
        "# ploting of next 10 days estimates\n",
        "plt.plot(last_days[101:],next_10_days.reshape(next_10_days.shape[0],1))\n",
        "\n",
        "plt.xlabel(\"time in days\")\n",
        "plt.ylabel(\"close price\")\n",
        "plt.title(\"plot of last 100 closing prices and 10 more estimated values\")\n",
        "plt.legend([\"last 100 days\",\"next 10 days\"])\n",
        "plt.show()\n",
        "\n",
        "fig.savefig(\"/content/drive/My Drive/stock_price_prediction_project/stock_predictions_next_10_days.jpg\",dpi = 300)"
      ],
      "execution_count": 292,
      "outputs": [
        {
          "output_type": "display_data",
          "data": {
            "image/png": "[encoded data removed]",
            "text/plain": [
              "<Figure size 1080x504 with 1 Axes>"
            ]
          },
          "metadata": {
            "tags": [],
            "needs_background": "light"
          }
        }
      ]
    },
    {
      "cell_type": "code",
      "metadata": {
        "id": "UYD0VrJ70tXQ",
        "colab_type": "code",
        "colab": {}
      },
      "source": [
        ""
      ],
      "execution_count": null,
      "outputs": []
    }
  ]
}